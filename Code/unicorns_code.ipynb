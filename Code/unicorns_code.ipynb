{
 "cells": [
  {
   "cell_type": "markdown",
   "id": "respected-technical",
   "metadata": {},
   "source": [
    "# Unicorn Companies\n",
    "\n",
    "A unicorn company is a privately held company with a current valuation of over $1 billion USD. This dataset consists of unicorn companies and startups across the globe as of November 2021, including country of origin, sector, select investors, and valuation of each unicorn. \n",
    "\n",
    "_Note former unicorn companies that have since exited due to IPO or acquisitions are not included in this list._\n",
    "\n",
    "Not sure where to begin? Scroll to the bottom to find challenges!"
   ]
  },
  {
   "cell_type": "markdown",
   "id": "8d8d033c-1d04-45f3-96a5-0bde25845142",
   "metadata": {},
   "source": [
    "## Load Libraries"
   ]
  },
  {
   "cell_type": "code",
   "execution_count": null,
   "id": "minute-thursday",
   "metadata": {
    "message": false,
    "tags": []
   },
   "outputs": [],
   "source": [
    "install.packages(\"pkgcond\")\n",
    "\n",
    "suppressPackageStartupMessages(library(pkgcond))\n",
    "\n",
    "suppress_conditions(source(\"librs_and_funcs.R\"))\n",
    "\n",
    "unicorns <- read_csv('data/unicorn_companies.csv', show_col_types = FALSE)"
   ]
  },
  {
   "cell_type": "markdown",
   "id": "wrong-berlin",
   "metadata": {},
   "source": [
    "#### First peek at data"
   ]
  },
  {
   "cell_type": "code",
   "execution_count": null,
   "id": "62fb6096-bc29-4d39-8363-0285a6afd91b",
   "metadata": {},
   "outputs": [],
   "source": [
    "#Look at the first 10 observations in the datframe\n",
    "head(unicorns, n = 10)"
   ]
  },
  {
   "cell_type": "code",
   "execution_count": null,
   "id": "fa2fd4b8-a668-41b9-bc9b-aacc74361d47",
   "metadata": {},
   "outputs": [],
   "source": []
  },
  {
   "cell_type": "markdown",
   "id": "e3ca86de-3713-4a26-99de-dcf373453032",
   "metadata": {},
   "source": [
    "## Clean "
   ]
  },
  {
   "cell_type": "code",
   "execution_count": null,
   "id": "83e90a46-e9d0-4c9a-b5f7-86ededf23442",
   "metadata": {},
   "outputs": [],
   "source": [
    "#Change column names for easier calls\n",
    "colnames(unicorns) <- c('company','valuation_billions','date_added','country','category','select_investors')\n",
    "\n",
    "\n",
    "#Sequoia Capital firm name to avoid error when creating new df \"unicorn_investors\"\n",
    "unicorns$select_investors <- gsub(\"and Sequoia Capital China\", \"Sequoia Capital China\", unicorns$select_investors)\n",
    "unicorns$select_investors <- gsub(\"/td>\", \"TD\", unicorns$select_investors)\n",
    "\n",
    "\n",
    "\n",
    "#Trim whitespaces off columns \"Company\", \"Country\", and \"Category\"\n",
    "unicorns$company <- trimws(unicorns$company, which = c(\"both\"))\n",
    "unicorns$country <- trimws(unicorns$country, which = c(\"both\"))\n",
    "unicorns$category <- trimws(unicorns$category, which = c(\"both\"))\n",
    "\n",
    "\n",
    "#Clean-up \"select_investors\" column in \"unicorns\"\n",
    "clean_investors <- function(){\n",
    "    ncv_position = 1\n",
    "    new_column_values <- list()\n",
    "    for(investor_group in unicorns$select_investors){\n",
    "        rl_position = 1\n",
    "        re_list <- c()\n",
    "        for(investor in strsplit(investor_group, split = \",\")[[1]]){\n",
    "            if(investor == ''){\n",
    "                re_list[[rl_position]] <- 'Unknown'\n",
    "                rl_position <- rl_position + 1\n",
    "                }else{\n",
    "                re_list[[rl_position]] <- stri_trans_totitle(trimws(investor, which = c(\"both\")))\n",
    "                rl_position <- rl_position + 1\n",
    "                }\n",
    "            }\n",
    "        new_column_values[[ncv_position]] <- re_list\n",
    "        ncv_position <- ncv_position + 1\n",
    "        }\n",
    "    return(new_column_values)\n",
    "    }\n",
    "\n",
    "unicorns$select_investors <- clean_investors()"
   ]
  },
  {
   "cell_type": "markdown",
   "id": "b596e53b-66e8-40ad-afb5-ec774f98b3a0",
   "metadata": {},
   "source": [
    "## Transform"
   ]
  },
  {
   "cell_type": "code",
   "execution_count": null,
   "id": "935433fb-af09-463d-8e4a-35361af09275",
   "metadata": {},
   "outputs": [],
   "source": [
    "#Remove the '$' from the \"valuation_billions\" column\n",
    "unicorns$valuation_billions <- substr(unicorns$valuation_billions, 2,7)\n",
    "\n",
    "\n",
    "#Convert the chr strings in \"valuation_billions\" to numeric values\n",
    "unicorns$valuation_billions <- as.numeric(unicorns$valuation_billions)\n",
    "\n",
    "\n",
    "#Create \"over_5bill\" to indicate companies valued over 5 billion\n",
    "unicorns$over_5bill <- unicorns$valuation_billions >= 5.0\n",
    "\n",
    "\n",
    "\n",
    "\n",
    "#Create \"num_of_investors\" column\n",
    "investor_count <- function(){\n",
    "    count = 1\n",
    "    new_column_values <- c()\n",
    "    for(investor_group in unicorns$select_investors){\n",
    "        new_column_values[[count]] <- length(investor_group)\n",
    "        count <- count + 1\n",
    "        }\n",
    "    return(new_column_values)\n",
    "    }\n",
    "    \n",
    "unicorns$num_of_investors <- investor_count()\n",
    "\n",
    "\n",
    "#Convert \"num_of_investors\" list values to integers\n",
    "unicorns$num_of_investors <- as.integer(unicorns$num_of_investors)\n",
    "\n",
    "\n",
    "\n",
    "\n",
    "#Get Today's Date\n",
    "today <- Sys.Date()\n",
    "\n",
    "#Convert the chr date in \"date_added\" to date\n",
    "unicorns$date_added <- as.Date(unicorns$date_added, format = \"%m/%d/%y\")\n",
    "\n",
    "#Create \"age\" column \n",
    "unicorns$age_years <- round(as.integer(today - unicorns$date_added)/365.25, digits = 2)\n",
    "\n",
    "\n",
    "\n",
    "\n",
    "#Fix values 'United States,' and 'Santa Clara' to 'United States'\n",
    "unicorns$category <- replace(unicorns$category, unicorns$category == 'Artificial intelligence', 'Artificial Intelligence')\n",
    "unicorns$category <- replace(unicorns$category, unicorns$category == 'Finttech', 'Fintech')\n",
    "unicorns$category <- replace(unicorns$category, unicorns$category == 'E-commerce & direct-to-consumer', 'Ecommerce & Direct-to-Consumer')\n",
    "unicorns$category <- replace(unicorns$category, unicorns$category == 'Internet software & services', 'Web Products/Services')\n",
    "unicorns$category <- replace(unicorns$category, unicorns$category == 'Supply chain, logistics, & delivery', 'Supply Chain & Logistics')\n",
    "unicorns$category <- replace(unicorns$category, unicorns$category == 'Data management & analytics', 'Data Management & Analytics')\n",
    "unicorns$category <- replace(unicorns$category, unicorns$category == 'Auto & transportation', 'Transportation & Auto')\n",
    "unicorns$category <- replace(unicorns$category, unicorns$category == 'Consumer & retail', 'Retail')\n",
    "unicorns$category <- replace(unicorns$category, unicorns$category == 'Mobile & telecommunications', 'Telecommunications & Mobile')\n",
    "\n",
    "\n",
    "#Vectors to create \"continent\" column based on \"country\" name\n",
    "aerospace <- c('SpaceX', 'ABL Space Systems', 'Firefly Aerospace', 'Relativity Space')\n",
    "gaming <- c('Epic Games', 'Wildlife Studios', 'Voodoo', 'Playco')\n",
    "food_beverage <- c('HEYTEA', 'Wenheyou', 'Manner', 'Ynsect')\n",
    "batteries <- c('Northvolt', 'Sila Nanotechnologies', 'OCSiAl')\n",
    "investment <- c('Black Unicorn Factory', 'NuCom Group', 'Mensa Brands')\n",
    "web_prod_serv <- c('OVH', 'Sentry')\n",
    "waste_recycle <- c('Redwood Materials', 'Rubicon Global')\n",
    "film <- c('Dadi Cinema', 'Skydance Media')  \n",
    "agriculture <- c('Bowery Farming', 'Farmers Business Network', 'Apeel Sciences', 'Inari')\n",
    "advertising <- c('Trader Interactive', 'You & Mr Jones', 'Emerging Markets Property Group')  #now, the brandtech group\n",
    "construction <- c('Nexii', 'Revolution Precrafted')\n",
    "energy <- c('Uplight', 'OVO Energy')\n",
    "transpotation_auto <- c('SITECH DEV', 'Boom Supersonic')\n",
    "aviation <- c('Vista Global')\n",
    "satellites <- c('Planet Labs')\n",
    "metaverse <- c('Improbable')\n",
    "diamonds <- c('Diamond Foundry')\n",
    "financial_services <- c('Five Star Business Finance')\n",
    "cosmetics <- c('GPclub')\n",
    "restaurants <- c('Cava Group')\n",
    "biomaterials <- c('Spiber')\n",
    "travel <- c('LifeMiles')\n",
    "media <- c('Red Ventures')\n",
    "space <- c('Axiom Space')\n",
    "ecommerce_dtc <- c('Printful')\n",
    "insurance <- c('Howden Group Holdings')\n",
    "retail <- c('Thrasio')\n",
    "\n",
    "\n",
    "#Add \"category\" for values labeled \"Other\" and assign it to \"unicorns\"\n",
    "unicorns$category <- replace(unicorns$category, unicorns$company %in% aerospace, 'Aerospace')\n",
    "unicorns$category <- replace(unicorns$category, unicorns$company %in% gaming, 'Gaming')\n",
    "unicorns$category <- replace(unicorns$category, unicorns$company %in% food_beverage, 'Food & Beverage')\n",
    "unicorns$category <- replace(unicorns$category, unicorns$company %in% batteries, 'Batteries')\n",
    "unicorns$category <- replace(unicorns$category, unicorns$company %in% investment, 'Investment')\n",
    "unicorns$category <- replace(unicorns$category, unicorns$company %in% web_prod_serv, 'Web Products/Services')\n",
    "unicorns$category <- replace(unicorns$category, unicorns$company %in% waste_recycle, 'Waste & Recycle')\n",
    "unicorns$category <- replace(unicorns$category, unicorns$company %in% film, 'Film')\n",
    "unicorns$category <- replace(unicorns$category, unicorns$company %in% agriculture, 'Agriculture')\n",
    "unicorns$category <- replace(unicorns$category, unicorns$company %in% advertising, 'Advertising')\n",
    "unicorns$category <- replace(unicorns$category, unicorns$company %in% construction, 'Construction')\n",
    "unicorns$category <- replace(unicorns$category, unicorns$company %in% energy, 'Energy')\n",
    "unicorns$category <- replace(unicorns$category, unicorns$company %in% transpotation_auto, 'Transportation & Auto')\n",
    "unicorns$category <- replace(unicorns$category, unicorns$company %in% aviation, 'Aviation')\n",
    "unicorns$category <- replace(unicorns$category, unicorns$company %in% satellites, 'Satellites')\n",
    "unicorns$category <- replace(unicorns$category, unicorns$company %in% metaverse, 'Metaverse')\n",
    "unicorns$category <- replace(unicorns$category, unicorns$company %in% diamonds, 'Diamonds')\n",
    "unicorns$category <- replace(unicorns$category, unicorns$company %in% financial_services, 'Financial Services')\n",
    "unicorns$category <- replace(unicorns$category, unicorns$company %in% cosmetics, 'Cosmetics')\n",
    "unicorns$category <- replace(unicorns$category, unicorns$company %in% restaurants, 'Restaurants')\n",
    "unicorns$category <- replace(unicorns$category, unicorns$company %in% biomaterials, 'Biomaterials')\n",
    "unicorns$category <- replace(unicorns$category, unicorns$company %in% travel, 'Travel')\n",
    "unicorns$category <- replace(unicorns$category, unicorns$company %in% media, 'Media')\n",
    "unicorns$category <- replace(unicorns$category, unicorns$company %in% space, 'Space')\n",
    "unicorns$category <- replace(unicorns$category, unicorns$company %in% ecommerce_dtc, 'Ecommerce & Direct-to-Consumer')\n",
    "unicorns$category <- replace(unicorns$category, unicorns$company %in% insurance, 'Insurance')\n",
    "unicorns$category <- replace(unicorns$category, unicorns$company %in% retail, 'Retail')\n",
    "\n",
    "\n",
    "\n",
    "\n",
    "#Fix values 'United States,' and 'Santa Clara' to 'United States'\n",
    "unicorns$country <- replace(unicorns$country, unicorns$country == 'Santa Clara' | unicorns$country == 'United States,', 'United States')\n",
    "\n",
    "\n",
    "#Vectors to create \"continent\" column based on \"country\" name\n",
    "\n",
    "#North America\n",
    "na <- c('United States', 'Mexico', 'Canada')\n",
    "\n",
    "#Europe\n",
    "eu <- c('Sweden','United Kingdom', 'Bermuda', 'Germany', 'Netherlands', 'Belgium', 'Estonia', 'Lithuania', 'France', 'Austria', 'Ireland', 'Switzerland', 'Luxembourg', 'Finland', 'Denmark', 'Norway', 'Spain', 'Czech Republic', 'Croatia')\n",
    "\n",
    "#South America\n",
    "sa <- c('Brazil', 'Columbia', 'Argentina', 'Chile')\n",
    "\n",
    "#Asia\n",
    "as <- c('China', 'Hong Kong', 'India', 'Singapore', 'South Korea', 'Israel', 'Thailand', 'Malaysia', 'Indonesia')\n",
    "\n",
    "#Africa\n",
    "af <- c('Senegal', 'South Africa')\n",
    "\n",
    "\n",
    "\n",
    "\n",
    "#Create \"continent\" column and assign it to \"unicorns\"\n",
    "continents <- function(x){\n",
    "  count = 1\n",
    "  new_column_values <- c()\n",
    "  for(country in unicorns$country){\n",
    "    if(country %in% na){\n",
    "      new_column_values[[count]] = 'North America'\n",
    "      count <- count + 1\n",
    "    }else if(country %in% eu){\n",
    "      new_column_values[[count]] = 'Europe'\n",
    "      count <- count + 1\n",
    "    }else if(country %in% sa){\n",
    "      new_column_values[[count]] = 'South America'\n",
    "      count <- count + 1\n",
    "    }else if(country %in% as){\n",
    "      new_column_values[[count]] = 'Asia'\n",
    "      count <- count + 1\n",
    "    }else{\n",
    "      new_column_values[[count]] = 'Africa'\n",
    "      count <- count + 1\n",
    "    }\n",
    "  }\n",
    "  \n",
    "  return(new_column_values)\n",
    "}\n",
    "    \n",
    "unicorns$continent <- continents()\n",
    "    \n",
    "    \n",
    "    \n",
    "    \n",
    "#Function to convert a non_numeric column into a number-coded column based on the amount of unique values\n",
    "coderize_column <- function(df_column){\n",
    "    position = 1\n",
    "    coded_nums <- 1:length(unique(df_column))\n",
    "    order_col <- unique(df_column)\n",
    "    new_column_values <- 1:length(df_column)\n",
    "    for(value in order_col){\n",
    "            value_index_positions <- which(df_column == value)\n",
    "            for(index in value_index_positions){\n",
    "                new_column_values[[index]] <- coded_nums[[position]]\n",
    "            }\n",
    "        position <- position + 1\n",
    "    }\n",
    "    return(as.integer(new_column_values))\n",
    "}\n",
    "\n",
    "\n",
    "#Coderize \"country\" column\n",
    "unicorns$coded_country <- coderize_column(unicorns$country)     \n",
    "    \n",
    "#Coderize \"continent\" column\n",
    "unicorns$coded_continent <- coderize_column(unicorns$continent)    \n",
    "    \n",
    "#Coderize \"category\" column\n",
    "unicorns$coded_category <- coderize_column(unicorns$category)\n",
    "                "
   ]
  },
  {
   "cell_type": "markdown",
   "id": "375b47fe-9a8c-474d-a3e4-54e5e82dc616",
   "metadata": {},
   "source": [
    "#### Check \"unicorns\" after cleaning & transformations"
   ]
  },
  {
   "cell_type": "code",
   "execution_count": null,
   "id": "9a166114-842d-478f-94f2-39fcf440910b",
   "metadata": {},
   "outputs": [],
   "source": [
    "#Take a glimpse at columns and some values in unicorn\n",
    "glimpse(unicorns)"
   ]
  },
  {
   "cell_type": "code",
   "execution_count": null,
   "id": "f3ef79ae-f75d-4891-b8a9-9c40ad9f2b4b",
   "metadata": {},
   "outputs": [],
   "source": [
    "##### First 10 observations of \"unicorns\"\n",
    "head(unicorns, n = 5)"
   ]
  },
  {
   "cell_type": "code",
   "execution_count": null,
   "id": "399d6c1b-e555-4ecb-be2d-bd5b3fb38c28",
   "metadata": {},
   "outputs": [],
   "source": [
    "#\"unicorns\" with a valuation over 5 Billion\n",
    "as.integer(count(unicorns[unicorns$over_5bill == TRUE,]))\n",
    "\n",
    "#\"unicorns\" with a valuation under 5 Billion\n",
    "as.integer(count(unicorns[unicorns$over_5bill == FALSE,]))"
   ]
  },
  {
   "cell_type": "markdown",
   "id": "7c75e1c1-b9de-4498-b947-a36f9a76dfe7",
   "metadata": {},
   "source": [
    "### Create \"unicorn_investors\" based on \"unicorns\", switching from 'company' profiles to 'investor' profiles"
   ]
  },
  {
   "cell_type": "code",
   "execution_count": null,
   "id": "f6808120-dc8a-47bc-8388-a19c387bb560",
   "metadata": {},
   "outputs": [],
   "source": [
    "#Number of investments by investor\n",
    "investor_frequency <- function(x){\n",
    "  count = 1\n",
    "  new_column_values <- c()\n",
    "  for(investor_group in unicorns$select_investors){\n",
    "       for(investor in investor_group){\n",
    "           new_column_values[[count]] = trimws(investor, which = c(\"both\"))\n",
    "           count <- count + 1\n",
    "            }\n",
    "      }\n",
    "    return(new_column_values)\n",
    "}\n",
    "    \n",
    "investor_freq <- investor_frequency()\n",
    "\n",
    "\n",
    "#Create a vector to hold unique Investors\n",
    "investors <- unlist(unique(investor_freq), use.names = FALSE)\n",
    "\n",
    "\n",
    "#Create a vector to hold investment count per Investor\n",
    "investment_count <- frequency(unlist(investor_freq, use.names = FALSE))\n",
    "\n",
    "\n",
    "#Dataframe based Unicorn Investors\n",
    "unicorn_investors <- data.frame(investors, investment_count)"
   ]
  },
  {
   "cell_type": "markdown",
   "id": "df514cde-368d-4395-bd41-f0671eb7e50b",
   "metadata": {},
   "source": [
    "#### \"unicorn_investors\" transformations"
   ]
  },
  {
   "cell_type": "code",
   "execution_count": null,
   "id": "4604096e-712c-4f80-bef8-5c324f969549",
   "metadata": {},
   "outputs": [],
   "source": [
    "#Function that collects investments by \"investor\"\n",
    "companies_by_investor <- function(){\n",
    "    ncv_position = 1\n",
    "    new_column_values <- list()\n",
    "    for(investor in unicorn_investors$investors){\n",
    "        company_pos = 1\n",
    "        ic_position = 1\n",
    "        investor_companies <- c()\n",
    "        for(investor_group in unicorns$select_investors){\n",
    "            if(investor %in% investor_group){\n",
    "                investor_companies[[ic_position]] <- trimws(unicorns$company[[company_pos]], which = c('both'))\n",
    "                ic_position = ic_position + 1\n",
    "                company_pos <- company_pos + 1\n",
    "                }else{\n",
    "                company_pos <- company_pos + 1\n",
    "                }\n",
    "            }\n",
    "           new_column_values[[ncv_position]] <- unlist(investor_companies, use.name = FALSE)\n",
    "           ncv_position <- ncv_position + 1\n",
    "        }\n",
    "    return(new_column_values)\n",
    "    }\n",
    "  \n",
    "\n",
    "#Assign \"companies_by_investor\" to new column \"investments\" in \"unicorn_investments\"\n",
    "unicorn_investors$investments <- companies_by_investor()\n",
    "\n",
    "\n",
    "\n",
    "\n",
    "\n",
    "#Function that calculates valuation in billions by \"investor\"\n",
    "valuation_by_investor <- function(){\n",
    "    ncv_position = 1\n",
    "    new_column_values <- list()\n",
    "    for(investor in unicorn_investors$investors){\n",
    "        iv_position <- 1\n",
    "        investor_valuations <- c()\n",
    "        for(company in unicorn_investors[unicorn_investors$investors == investor,]$investments){\n",
    "            investor_valuations[[iv_position]] <- unicorns[unicorns$company %in% company,]$valuation_billions\n",
    "            iv_position = iv_position + 1\n",
    "            }\n",
    "            new_column_values[[ncv_position]] <- sum(unlist(investor_valuations, use.names = FALSE))\n",
    "            ncv_position <- ncv_position + 1\n",
    "            }\n",
    "        return(as.numeric(new_column_values))\n",
    "    }\n",
    "    \n",
    "  \n",
    "#Assign \"companies_by_investor\" to new column \"investments\" in \"unicorn_investments\"\n",
    "unicorn_investors$valuation_billions <- valuation_by_investor()\n",
    "\n",
    "\n",
    "\n",
    "\n",
    "\n",
    "#Function that calculates the average valuation in billions by \"investor\"\n",
    "investor_mean_valuation <- function(){\n",
    "    ncv_position = 1\n",
    "    new_column_values <- list()\n",
    "    for(investor in unicorn_investors$investors){\n",
    "        iv_position <- 1\n",
    "        investor_valuations <- c()\n",
    "        for(company in unicorn_investors[unicorn_investors$investors == investor,]$investments){\n",
    "            investor_valuations[[iv_position]] <- unicorns[unicorns$company %in% company,]$valuation_billions\n",
    "            iv_position = iv_position + 1\n",
    "            }\n",
    "            new_column_values[[ncv_position]] <- round(mean(as.numeric(unlist(investor_valuations, use.names = FALSE))), digits = 2)\n",
    "            ncv_position <- ncv_position + 1\n",
    "            }\n",
    "        return(as.numeric(new_column_values))\n",
    "    }\n",
    "    \n",
    "  \n",
    "#Assign \"companies_by_investor\" to new column \"investments\" in \"unicorn_investments\"\n",
    "unicorn_investors$mean_valuation <- investor_mean_valuation()"
   ]
  },
  {
   "cell_type": "markdown",
   "id": "de5c6a4a-7255-4cf3-b953-e24a82a5ac88",
   "metadata": {},
   "source": [
    "#### View \"unicorn_investors\""
   ]
  },
  {
   "cell_type": "code",
   "execution_count": null,
   "id": "817ca050-d110-47a8-8c5b-3dd0253acb49",
   "metadata": {},
   "outputs": [],
   "source": [
    "#First 10 observations of \"unicorn_investors\"\n",
    "head(unicorn_investors, n = 5)"
   ]
  },
  {
   "cell_type": "markdown",
   "id": "6194d75a-2d01-452e-9ccb-a2d109120287",
   "metadata": {},
   "source": [
    "#### Use \"unicorn_investors\" to create new df \"cor_unicorns\"\n",
    "- \"associate_companies\"\n",
    "- \"num_of_associates\"\n",
    "- \"association_valuation\"\n",
    "- \"avg_associate_valuation\""
   ]
  },
  {
   "cell_type": "code",
   "execution_count": null,
   "id": "2e1f3f81-5057-4bf6-9dc6-1070f7c301b3",
   "metadata": {},
   "outputs": [],
   "source": [
    "cor_unicorns <- unicorns"
   ]
  },
  {
   "cell_type": "code",
   "execution_count": null,
   "id": "879f3209-17f8-40b9-b07e-fd0d6118583e",
   "metadata": {},
   "outputs": [],
   "source": [
    "#Function that collects a \"company\"'s associated companies by \"investor\"\n",
    "associative_companies <- function(){\n",
    "    ncv_position = 1\n",
    "    new_column_values <- list()\n",
    "    for(company in cor_unicorns$company){\n",
    "        ac_position = 1\n",
    "        associated_companies <- list()\n",
    "        for(investor in unicorn_investors$investors){\n",
    "            current_investments <- unlist(unicorn_investors[unicorn_investors$investors == investor,]$investments)\n",
    "            company_index_position <- which(current_investments == company)\n",
    "            investments_minus_company <- current_investments[-company_index_position]\n",
    "            associated_companies[[ac_position]] <- investments_minus_company\n",
    "            ac_position <- ac_position + 1\n",
    "            }\n",
    "        new_column_values[[ncv_position]] <- unlist(associated_companies, use.name = FALSE)\n",
    "        ncv_position <- ncv_position + 1\n",
    "        }\n",
    "     return(new_column_values)\n",
    "    }\n",
    "\n",
    "#Assign \"associative_companies\" to new column \"associate_companies\" in \"unicorns\"\n",
    "cor_unicorns$associate_companies <- associative_companies()\n",
    "\n",
    "\n",
    "\n",
    "\n",
    "\n",
    "#Create a column for the number of \"associate_companies\" by \"company\"\n",
    "unicorns$num_of_associates <- length(cor_unicorns$associate_companies[[1]])\n",
    "\n",
    "#Create \"num_of_associates\" column\n",
    "associate_count <- function(){\n",
    "    count = 1\n",
    "    new_column_values <- c()\n",
    "    for(associate_group in cor_unicorns$associate_companies){\n",
    "        new_column_values[[count]] <- length(associate_group)\n",
    "        count <- count + 1\n",
    "        }\n",
    "    return(new_column_values)\n",
    "    }\n",
    "    \n",
    "cor_unicorns$num_of_associates <- associate_count()\n",
    "\n",
    "\n",
    "#Convert \"num_of_associates\" list values to integers\n",
    "cor_unicorns$num_of_associates <- as.integer(cor_unicorns$num_of_associates)"
   ]
  },
  {
   "cell_type": "code",
   "execution_count": null,
   "id": "9e36efb5-62f9-4db7-8132-b09234cfb37f",
   "metadata": {},
   "outputs": [],
   "source": [
    "#Function that calculates valuation in billions by \"associate_companies\"\n",
    "valuation_by_association <- function(){\n",
    "    ncv_position = 1\n",
    "    new_column_values <- list()\n",
    "    for(association_group in cor_unicorns$associate_companies){\n",
    "        av_position <- 1\n",
    "        associate_valuations <- c()\n",
    "        for(company in unlist(association_group, use.names = FALSE)){\n",
    "            associate_valuations[[av_position]] <- cor_unicorns[cor_unicorns$company %in% company,]$valuation_billions\n",
    "            av_position = av_position + 1\n",
    "            }\n",
    "        new_column_values[[ncv_position]] <- sum(unlist(associate_valuations, use.names = FALSE))\n",
    "        ncv_position <- ncv_position + 1\n",
    "        }\n",
    "    return(as.numeric(new_column_values))\n",
    "}\n",
    "    \n",
    "  \n",
    "#Assign \"companies_by_investor\" to new column \"investments\" in \"unicorn_investments\"\n",
    "cor_unicorns$association_valuation <- valuation_by_association()\n",
    "\n",
    "\n",
    "\n",
    "\n",
    "#Function that calculates valuation in billions by \"associate_companies\"\n",
    "valuation_by_association <- function(){\n",
    "    ncv_position = 1\n",
    "    new_column_values <- list()\n",
    "    for(association_group in cor_unicorns$associate_companies){\n",
    "        av_position <- 1\n",
    "        associate_valuations <- c()\n",
    "        for(company in unlist(association_group, use.names = FALSE)){\n",
    "            associate_valuations[[av_position]] <- cor_unicorns[cor_unicorns$company %in% company,]$valuation_billions\n",
    "            av_position = av_position + 1\n",
    "            }\n",
    "        new_column_values[[ncv_position]] <- mean(as.numeric(unlist(associate_valuations, use.names = FALSE)))\n",
    "        ncv_position <- ncv_position + 1\n",
    "        }\n",
    "    return(as.numeric(unlist(new_column_values, use.names = FALSE)))\n",
    "}\n",
    "    \n",
    "  \n",
    "#Assign \"companies_by_investor\" to new column \"investments\" in \"unicorn_investments\"\n",
    "cor_unicorns$avg_associate_valuation <- valuation_by_association()\n",
    "\n",
    "\n",
    "\n",
    "\n",
    "#Categorize \"num_of_associates\" for correlation\n",
    "associates_level <- function(){\n",
    "    position = 1\n",
    "    new_column_values <- c()\n",
    "    for(associates_num in cor_unicorns$num_of_associates){\n",
    "        if(associates_num < 26){\n",
    "            new_column_values[[position]] <- 1\n",
    "            position <- position + 1\n",
    "            }else if(associates_num > 25 & associates_num < 51){\n",
    "            new_column_values[[position]] <- 2\n",
    "            position <- position + 1\n",
    "            }else if(associates_num > 50 & associates_num < 76){\n",
    "            new_column_values[[position]] <- 3\n",
    "            position <- position + 1\n",
    "            }else if(associates_num > 75 & associates_num < 101){\n",
    "            new_column_values[[position]] <- 4\n",
    "            position <- position + 1\n",
    "            }else if(associates_num > 100){\n",
    "            new_column_values[[position]] <- 5\n",
    "            position <- position + 1\n",
    "            }\n",
    "        }\n",
    "    return(as.numeric(new_column_values))\n",
    "    }\n",
    "\n",
    "cor_unicorns$associates_level <- associates_level()"
   ]
  },
  {
   "cell_type": "code",
   "execution_count": null,
   "id": "5cf7f062-13c3-4c1e-83f8-ae158dfad863",
   "metadata": {},
   "outputs": [],
   "source": [
    "#cor_unicorns <- cor_unicorns[cor_unicorns$num_of_associates > 0,]"
   ]
  },
  {
   "cell_type": "markdown",
   "id": "66da66dd-760e-4bad-b4e4-77055790bd2f",
   "metadata": {},
   "source": [
    "#### Check \"cor_unicorns\""
   ]
  },
  {
   "cell_type": "code",
   "execution_count": null,
   "id": "432d8cfd-58a5-417c-a559-e3ba08ddb3f2",
   "metadata": {},
   "outputs": [],
   "source": [
    "#Use when exporting to csv\n",
    "#cor_unicorns$date_added = format(cor_unicorns$date_added, format = \"%y/%d/%m\")"
   ]
  },
  {
   "cell_type": "code",
   "execution_count": null,
   "id": "9ab528c4-fdf7-42a1-be47-6c3098a731b1",
   "metadata": {},
   "outputs": [],
   "source": [
    "#head(cor_unicorns, n = 5)"
   ]
  },
  {
   "cell_type": "markdown",
   "id": "a354fd76-4893-433a-97df-58e8c8ed2618",
   "metadata": {},
   "source": [
    "#### Use \"cor_unicorns\" & \"unicorn_investors\" to create 2 new columns in \"unicorn_investors\""
   ]
  },
  {
   "cell_type": "code",
   "execution_count": null,
   "id": "bbe8bcd4-434c-4a05-a993-0029ba0d4524",
   "metadata": {},
   "outputs": [],
   "source": [
    "#Function that counts the number of \"investments\" have a valuation over 5 Billion\n",
    "over_5bill_companies <- function(){\n",
    "    ncv_position = 1\n",
    "    new_column_values <- c()\n",
    "    for(investor in unicorn_investors$investors){\n",
    "        current_investments <- unlist(unicorn_investors[unicorn_investors$investors == investor,]$investments)\n",
    "        b_position = 1\n",
    "        companies_over_5bill = 0\n",
    "        for(company in current_investments){\n",
    "#            print(company)\n",
    "            company_value <- sum(cor_unicorns[cor_unicorns$company == company,]$valuation_billions)\n",
    "            if(company_value >= 5){\n",
    "                companies_over_5bill <- companies_over_5bill + 1\n",
    "                }\n",
    "#            print(companies_over_5bill)\n",
    "            }\n",
    "        new_column_values[[ncv_position]] <- companies_over_5bill\n",
    "        ncv_position <- ncv_position + 1\n",
    "        }\n",
    "     return(as.integer(new_column_values))\n",
    "    }\n",
    "\n",
    "#Assign \"associative_companies\" to new column \"associate_companies\" in \"unicorns\"\n",
    "unicorn_investors$num_over_5bill <- over_5bill_companies()\n",
    "\n",
    "\n",
    "\n",
    "\n",
    "\n",
    "#Function that counts the number of \"investments\" have a valuation over 5 Billion\n",
    "pct_over_5bill <- function(){\n",
    "    ncv_position = 1\n",
    "    new_column_values <- c()\n",
    "    for(investor in unicorn_investors$investors){\n",
    "        num_over_5bill <- unicorn_investors[unicorn_investors$investors == investor,]$num_over_5bill\n",
    "        num_of_investments <- unicorn_investors[unicorn_investors$investors == investor,]$investment_count\n",
    "        success_rate <- num_over_5bill / num_of_investments\n",
    "        new_column_values[[ncv_position]] <- round((success_rate * 100))\n",
    "        ncv_position <- ncv_position + 1\n",
    "        }\n",
    "     return(as.numeric(new_column_values))\n",
    "    }\n",
    "\n",
    "#Assign \"associative_companies\" to new column \"associate_companies\" in \"unicorns\"\n",
    "unicorn_investors$pct_5bill <- pct_over_5bill()"
   ]
  },
  {
   "cell_type": "code",
   "execution_count": null,
   "id": "fbbbca7a-90ff-45da-b76d-c8437c54d9f0",
   "metadata": {},
   "outputs": [],
   "source": [
    "head(unicorn_investors, n = 5)"
   ]
  },
  {
   "cell_type": "markdown",
   "id": "c7522324-48b7-4f62-b6ee-037e4006ead4",
   "metadata": {},
   "source": [
    "#### Create \"investors_avg_pct_over5bill\" column for \"cor_unicorns\""
   ]
  },
  {
   "cell_type": "code",
   "execution_count": null,
   "id": "b6be3ea0-a6f6-4846-8287-052f5c69d3d0",
   "metadata": {},
   "outputs": [],
   "source": [
    "#Function that determines the average percentage of \"investments\" over 5_bill per \"select_investors\" by \"company\"\n",
    "investors_pct_over5bill <- function(){\n",
    "    ncv_position = 1\n",
    "    new_column_values <- list()\n",
    "    for(company in cor_unicorns$company){\n",
    "        position = 1\n",
    "        investor_pcts <- c()\n",
    "        investor_group <- unlist(cor_unicorns[cor_unicorns$company == company,]$select_investors, use.names = FALSE)\n",
    "        for(investor in investor_group){\n",
    "            pct_over_5bill <- unicorn_investors[unicorn_investors$investors == investor,]$pct_5bill\n",
    "            investor_pcts[[position]] <- pct_over_5bill\n",
    "            position <- position + 1\n",
    "            }\n",
    "        new_column_values[[ncv_position]] <- mean(unlist(investor_pcts, use.names = FALSE))\n",
    "        ncv_position <- ncv_position + 1\n",
    "        }\n",
    "     return(as.numeric(new_column_values))\n",
    "    }\n",
    "\n",
    "#Assign \"associative_companies\" to new column \"associate_companies\" in \"unicorns\"\n",
    "cor_unicorns$investors_avg_pct_over5bill <- investors_pct_over5bill()"
   ]
  },
  {
   "cell_type": "markdown",
   "id": "3925da2e-f7e8-4249-838d-777bf411ff19",
   "metadata": {},
   "source": [
    "#### Skim over \"unicorns\" and \"unicorn_investors\" for basic statistics"
   ]
  },
  {
   "cell_type": "code",
   "execution_count": null,
   "id": "90fec984-67f1-409b-8f5c-950f5437338d",
   "metadata": {},
   "outputs": [],
   "source": [
    "#Skim over \"unicorns\" for an overview of basic statistics\n",
    "skim_tee(cor_unicorns)"
   ]
  },
  {
   "cell_type": "code",
   "execution_count": null,
   "id": "5449cdb3-d314-4228-bc32-18b2e8cea2b6",
   "metadata": {},
   "outputs": [],
   "source": [
    "#Skim over \"unicorn_investors\" for an overview of basic statistics\n",
    "skim_tee(unicorn_investors)"
   ]
  },
  {
   "cell_type": "code",
   "execution_count": null,
   "id": "e511b3fe-bec6-4e84-8737-b16561c2e895",
   "metadata": {},
   "outputs": [],
   "source": [
    "#sort descending\n",
    "#cor_unicorns[cor_unicorns$num_of_associates == 0, ]"
   ]
  },
  {
   "cell_type": "code",
   "execution_count": null,
   "id": "c96c5019-3d04-4731-ace4-680565bf0782",
   "metadata": {},
   "outputs": [],
   "source": [
    "# Replace the NULL value of Unicorn's with missing \"avg_associate_valuation\" with their \"valuation_billions\" as they are un-associated \n",
    "cor_unicorns <- cor_unicorns %>%\n",
    "   mutate(avg_associate_valuation = ifelse(is.na(avg_associate_valuation), valuation_billions, avg_associate_valuation))"
   ]
  },
  {
   "cell_type": "code",
   "execution_count": null,
   "id": "f0514e30-9f58-4c11-b498-5cbc07a8f3dc",
   "metadata": {},
   "outputs": [],
   "source": [
    "cor_unicorns[cor_unicorns$valuation_billions > 105.00,]"
   ]
  },
  {
   "cell_type": "markdown",
   "id": "ee9ec326-53ae-4208-9003-3a722ff0605a",
   "metadata": {},
   "source": [
    "## Analysis + Visualiations"
   ]
  },
  {
   "cell_type": "markdown",
   "id": "0a62ddba-46eb-4cf7-93c9-bef840a4fb59",
   "metadata": {},
   "source": [
    "#### \"unicorns\" correlation"
   ]
  },
  {
   "cell_type": "code",
   "execution_count": null,
   "id": "82736c75-85ec-4568-aa57-438fb020b1ab",
   "metadata": {},
   "outputs": [],
   "source": [
    "colnames(cor_unicorns)"
   ]
  },
  {
   "cell_type": "code",
   "execution_count": null,
   "id": "ae5e9080-3ad2-49da-9693-9baea74e2ca4",
   "metadata": {},
   "outputs": [],
   "source": [
    "unicorns_pearson <- cor_unicorns[ , c('valuation_billions',\n",
    "                                      'age_years',\n",
    "                                      'associates_level',\n",
    "                                      'num_of_associates',\n",
    "                                      'association_valuation',\n",
    "                                      'avg_associate_valuation',\n",
    "                                      'investors_avg_pct_over5bill')]\n",
    "\n",
    "\n",
    "unicorns_spearman <- cor_unicorns[ , c('valuation_billions',\n",
    "                                       'age_years',\n",
    "                                       'over_5bill',\n",
    "                                       'num_of_investors',\n",
    "                                       'coded_country',\n",
    "                                       'coded_continent',\n",
    "                                       'coded_category',\n",
    "                                       'num_of_associates',\n",
    "                                       'associates_level',\n",
    "                                       'association_valuation',\n",
    "                                       'avg_associate_valuation',\n",
    "                                       'investors_avg_pct_over5bill')]\n",
    "                                  "
   ]
  },
  {
   "cell_type": "code",
   "execution_count": null,
   "id": "9162336e-006f-4207-9604-91d133bb7972",
   "metadata": {},
   "outputs": [],
   "source": [
    "cor(unicorns_pearson, method = \"pearson\")"
   ]
  },
  {
   "cell_type": "code",
   "execution_count": null,
   "id": "fcf64f21-88ac-4908-8c32-bb5c407be302",
   "metadata": {},
   "outputs": [],
   "source": [
    "cor(unicorns_spearman, method = \"spearman\")"
   ]
  },
  {
   "cell_type": "code",
   "execution_count": null,
   "id": "0ace1a79-1434-4195-88f4-da2e84fd7b7a",
   "metadata": {},
   "outputs": [],
   "source": [
    "# plotting the data to determine the linearity\n",
    "unicorns_pearson_linearity = plot(unicorns_pearson, col=\"steelblue\", main=\"Matrix Scatterplot\")"
   ]
  },
  {
   "cell_type": "code",
   "execution_count": null,
   "id": "48f844f9-eedc-4a9c-931f-6d10c1d97aae",
   "metadata": {},
   "outputs": [],
   "source": [
    "fig <- cor_unicorns %>% plot_ly(width = 700, height = 500)\n",
    "\n",
    "fig <- fig %>% add_trace(x = ~investors_avg_pct_over5bill,\n",
    "                         y = ~valuation_billions,\n",
    "                         color = ~over_5bill,\n",
    "                         colors = 'Set1',\n",
    "                         type = 'scatter',\n",
    "                         mode = 'markers')\n",
    "\n",
    "fig"
   ]
  },
  {
   "cell_type": "code",
   "execution_count": null,
   "id": "7b21449b-5505-4b0f-b369-1a76276f64f0",
   "metadata": {},
   "outputs": [],
   "source": []
  },
  {
   "cell_type": "code",
   "execution_count": null,
   "id": "b2d3e4a7-f205-4e05-9333-529e7c1e86ac",
   "metadata": {},
   "outputs": [],
   "source": [
    "#make this example reproducible\n",
    "set.seed(101)\n",
    "\n",
    "#use 70% of dataset as training set and 30% as test set\n",
    "sample <- sample(c(TRUE, FALSE), nrow(cor_unicorns), replace=TRUE, prob=c(0.7,0.3))\n",
    "train  <- cor_unicorns[sample, ]\n",
    "test   <- cor_unicorns[!sample, ]"
   ]
  },
  {
   "cell_type": "code",
   "execution_count": null,
   "id": "28d1ee47-3996-42dd-ad59-9c643e97dc9f",
   "metadata": {},
   "outputs": [],
   "source": [
    "#Simple regression plot on \"cor_unicorns\"\n",
    "ggplot(cor_unicorns, aes(x = investors_avg_pct_over5bill, y = valuation_billions)) +\n",
    "    geom_point() +\n",
    "    stat_smooth(method = \"lm\", col = \"red\", formula = y ~ x)"
   ]
  },
  {
   "cell_type": "code",
   "execution_count": null,
   "id": "146dfa25-578f-4035-9335-ef6594ebfdac",
   "metadata": {},
   "outputs": [],
   "source": [
    "mlm_summary <- lm(valuation_billions ~investors_avg_pct_over5bill + age_years + num_of_associates + association_valuation, data = cor_unicorns)"
   ]
  },
  {
   "cell_type": "code",
   "execution_count": null,
   "id": "c965ecc2-a8ab-4eb7-b6ac-b20a72bdd93c",
   "metadata": {},
   "outputs": [],
   "source": [
    "#1. The distribution of model residuals should be approximately normal.\n",
    "#hist(residuals(mlm_summary), col = \"steelblue\")\n",
    "\n",
    "fig <- plot_ly(x = fitted(mlm_summary), y = residuals(mlm_summary), type = \"scatter\")\n",
    "\n",
    "fig <- fig %>% layout(yaxis = list(showgrid = FALSE), width = 500, height = 400)\n",
    "\n",
    "fig"
   ]
  },
  {
   "cell_type": "code",
   "execution_count": null,
   "id": "4e3a4d59-c193-488c-af5d-fa3727971bbc",
   "metadata": {},
   "outputs": [],
   "source": [
    "#2. The variance of the residuals should be consistent for all observations.\n",
    "#create fitted value vs residual plot\n",
    "plot(fitted(mlm_summary), residuals(mlm_summary))\n",
    "\n",
    "#add horizontal line at 0\n",
    "abline(h = 0, lty = 2)"
   ]
  },
  {
   "cell_type": "code",
   "execution_count": null,
   "id": "ceaa8b2c-fb68-42ae-834b-e9f7d5d7ce65",
   "metadata": {},
   "outputs": [],
   "source": [
    "plot(mlm_summary)"
   ]
  },
  {
   "cell_type": "code",
   "execution_count": null,
   "id": "8c9b8279-5e0f-4c06-9524-63bdb6603411",
   "metadata": {},
   "outputs": [],
   "source": [
    "summary(mlm_summary)"
   ]
  },
  {
   "cell_type": "code",
   "execution_count": null,
   "id": "2c236257-a910-4c18-a2fa-111d72a27844",
   "metadata": {},
   "outputs": [],
   "source": [
    "lm_predict <- lm(valuation_billions ~ investors_avg_pct_over5bill + age_years + num_of_associates + associates_level, data = train)\n",
    "\n",
    "summary(lm_predict)\n",
    "\n",
    "pred <- predict(lm_predict, newdata = test, interval = \"confidence\")"
   ]
  },
  {
   "cell_type": "markdown",
   "id": "2d83dfa8-c47e-45f2-a39e-7b3a6804e4ec",
   "metadata": {},
   "source": [
    "#### Over 5 Billion"
   ]
  },
  {
   "cell_type": "code",
   "execution_count": null,
   "id": "4f2187bd-1e48-481e-99f1-901f518dcede",
   "metadata": {},
   "outputs": [],
   "source": [
    "cor_unicorns %>% group_by(over_5bill) %>% summarise(amount = n(),\n",
    "                                                percentage_of_whole = round((n()/as.integer(count(cor_unicorns)))*100))"
   ]
  },
  {
   "cell_type": "code",
   "execution_count": null,
   "id": "79e18127-59ba-4dd8-b77c-0728deb93e9f",
   "metadata": {},
   "outputs": [],
   "source": [
    "fig1 <- cor_unicorns[order(-cor_unicorns$over_5bill),] %>% plot_ly(width = 1000, height = 400)\n",
    "\n",
    "fig1 <- fig1 %>% add_trace(x = ~continent,\n",
    "                           y = ~investors_avg_pct_over5bill,\n",
    "                           color = ~over_5bill,\n",
    "                           colors = 'Set1',\n",
    "                           type = 'box')\n",
    "\n",
    "fig1 <- fig1 %>% layout(yaxis = list(showgrid = FALSE))\n",
    "\n",
    "\n",
    "fig1"
   ]
  },
  {
   "cell_type": "code",
   "execution_count": null,
   "id": "e536b879-3c00-4a08-9d2e-fbcfd34ddba5",
   "metadata": {},
   "outputs": [],
   "source": [
    "fig1 <- cor_unicorns[order(-cor_unicorns$over_5bill),] %>% plot_ly(width = 1000, height = 400)\n",
    "\n",
    "fig1 <- fig1 %>% add_trace(x = ~continent,\n",
    "                           y = ~valuation_billions,\n",
    "                           color = ~over_5bill,\n",
    "                           colors = 'Set1',\n",
    "                           type = 'box')\n",
    "\n",
    "fig1 <- fig1 %>% layout(yaxis = list(showgrid = FALSE))\n",
    "\n",
    "\n",
    "fig1"
   ]
  },
  {
   "cell_type": "markdown",
   "id": "d18118f7-060a-4c6c-8997-b455ef5754df",
   "metadata": {},
   "source": [
    "#### Associates Level"
   ]
  },
  {
   "cell_type": "code",
   "execution_count": null,
   "id": "a05c7257-b7ae-454d-ab25-c1ebd49bda48",
   "metadata": {},
   "outputs": [],
   "source": [
    "cor_unicorns %>% group_by(over_5bill) %>% summarise(sd_associates_level = sd(associates_level),\n",
    "                                                mean_associates_level = mean(associates_level),\n",
    "                                                mode_associates_level = find_mode(round(associates_level)),\n",
    "                                                median_associates_level = median(range(associates_level)))"
   ]
  },
  {
   "cell_type": "code",
   "execution_count": null,
   "id": "bd2d3134-9a00-4a70-a23c-5b7b596be232",
   "metadata": {},
   "outputs": [],
   "source": [
    "fig1 <- cor_unicorns[order(-cor_unicorns$associates_level),] %>% plot_ly(width = 1000, height = 400)\n",
    "\n",
    "fig1 <- fig1 %>% add_trace(x = ~associates_level,\n",
    "                           y = ~age_years,\n",
    "                           color = ~over_5bill,\n",
    "                           colors = 'Set1',\n",
    "                           type = 'box')\n",
    "\n",
    "\n",
    "\n",
    "fig2 <- cor_unicorns[order(-cor_unicorns$associates_level),] %>% plot_ly(width = 1000, height = 400)\n",
    "\n",
    "fig2 <- fig2 %>% add_trace(x = ~associates_level,\n",
    "                           y = ~investors_avg_pct_over5bill,\n",
    "                           color = ~over_5bill,\n",
    "                           colors = 'Set1',\n",
    "                           type = 'box')\n",
    "\n",
    "\n",
    "\n",
    "fig3 <- cor_unicorns[order(-cor_unicorns$associates_level),] %>% plot_ly(width = 1000, height = 400)\n",
    "\n",
    "fig3 <- fig3 %>% add_trace(x = ~associates_level,\n",
    "                           y = ~valuation_billions,\n",
    "                           color = ~over_5bill,\n",
    "                           colors = 'Set1',\n",
    "                           type = 'box')\n",
    "\n",
    "\n",
    "\n",
    "fig4 <- cor_unicorns[order(-cor_unicorns$associates_level),] %>% plot_ly(width = 1100, height = 600)\n",
    "\n",
    "fig4 <- fig4 %>% add_trace(x = ~associates_level,\n",
    "                           y = ~association_valuation,\n",
    "                           color = ~over_5bill,\n",
    "                           colors = 'Set1',\n",
    "                           type = 'box')\n",
    "\n",
    "\n",
    "\n",
    "\n",
    "\n",
    "\n",
    "fig <- subplot(fig1,fig2, fig3, fig4, nrows = 2)\n",
    "\n",
    "fig"
   ]
  },
  {
   "cell_type": "markdown",
   "id": "23520f8a-c8d8-4d7f-b049-8c13056946ab",
   "metadata": {},
   "source": [
    "#### Association Valuation"
   ]
  },
  {
   "cell_type": "code",
   "execution_count": null,
   "id": "e55b367a-01cd-422c-b724-92a8ef746497",
   "metadata": {},
   "outputs": [],
   "source": [
    "cor_unicorns %>% group_by(over_5bill) %>% summarise(sd_association_valuation = sd(association_valuation),\n",
    "                                                mean_association_valuation = mean(association_valuation),\n",
    "                                                mode_association_valuation = find_mode(round(association_valuation)),\n",
    "                                                median_association_valuation = median(range(association_valuation)))"
   ]
  },
  {
   "cell_type": "markdown",
   "id": "d8dbdcd7-fd9a-4224-b409-91e4d5d2b82b",
   "metadata": {},
   "source": [
    "#### Number of Associates"
   ]
  },
  {
   "cell_type": "code",
   "execution_count": null,
   "id": "03c6b143-45bf-4fa4-a262-77744a757df4",
   "metadata": {},
   "outputs": [],
   "source": [
    "cor_unicorns %>% group_by(over_5bill) %>% summarise(sd_num_of_associates = sd(num_of_associates),\n",
    "                                                mean_num_of_associates = mean(num_of_associates),\n",
    "                                                median_num_of_associates = median(range(num_of_associates)))"
   ]
  },
  {
   "cell_type": "markdown",
   "id": "bdff2206-fb8a-4ee4-94a6-a1a811461f7b",
   "metadata": {},
   "source": [
    "#### Age (years)"
   ]
  },
  {
   "cell_type": "code",
   "execution_count": null,
   "id": "d1aca0d3-c58b-4cb8-b30d-7cfe881d6793",
   "metadata": {},
   "outputs": [],
   "source": [
    "cor_unicorns %>% group_by(over_5bill) %>% summarise(sd_age = sd(age_years),\n",
    "                                                mean_age = mean(age_years),\n",
    "                                                mode_age = find_mode(round(age_years)),\n",
    "                                                median_age = median(range(age_years)))"
   ]
  },
  {
   "cell_type": "markdown",
   "id": "6ae71707-6150-4824-9dac-7d11ffdc7692",
   "metadata": {},
   "source": [
    "#### Valuation (billions)"
   ]
  },
  {
   "cell_type": "code",
   "execution_count": null,
   "id": "2d068c1b-b443-492a-8052-176575405152",
   "metadata": {},
   "outputs": [],
   "source": [
    "cor_unicorns %>% group_by(over_5bill) %>% summarise(sd_valuations = sd(valuation_billions),\n",
    "                                                mean_valuations = mean(valuation_billions),\n",
    "                                                mode_valuations = find_mode(as.integer(valuation_billions)),\n",
    "                                                median_valuations = median(range(valuation_billions)))"
   ]
  },
  {
   "cell_type": "markdown",
   "id": "1091f2d9-434f-4f58-b1c0-62f86b7e155f",
   "metadata": {},
   "source": [
    "#### Investors Average Percentage Over & Under 5 Billion"
   ]
  },
  {
   "cell_type": "code",
   "execution_count": null,
   "id": "ac4810b7-3fce-4a2e-9e84-3f99f3923245",
   "metadata": {},
   "outputs": [],
   "source": [
    "cor_unicorns %>% group_by(over_5bill) %>% summarise(sd_avg_pct_over_5bill = sd(investors_avg_pct_over5bill),\n",
    "                                                mean_avg_pct_over_5bill = mean(investors_avg_pct_over5bill),\n",
    "                                                mode_avg_pct_over_5bill = find_mode(investors_avg_pct_over5bill),\n",
    "                                                median_avg_pct_over_5bill = median(range(investors_avg_pct_over5bill)))"
   ]
  },
  {
   "cell_type": "markdown",
   "id": "3defc826-8109-48a1-93f1-3e5183b866b7",
   "metadata": {},
   "source": [
    "#### \"unicorn_investors\" correlation"
   ]
  },
  {
   "cell_type": "code",
   "execution_count": null,
   "id": "d6c88d6f-3950-493b-b93d-999923d152ee",
   "metadata": {},
   "outputs": [],
   "source": [
    "investors_cor <- unicorn_investors[ , c('investment_count', 'valuation_billions','mean_valuation','num_over_5bill','pct_5bill')]"
   ]
  },
  {
   "cell_type": "code",
   "execution_count": null,
   "id": "10a2cf0c-4116-4e76-8df9-64581307ba8a",
   "metadata": {},
   "outputs": [],
   "source": [
    "cor(investors_cor)"
   ]
  },
  {
   "cell_type": "code",
   "execution_count": null,
   "id": "2a8a6d93-f049-482b-9c13-88087c8119df",
   "metadata": {},
   "outputs": [],
   "source": [
    "#Number of Unique Portfolios among all Investors\n",
    "length(unique(unicorn_investors$investments))"
   ]
  },
  {
   "cell_type": "code",
   "execution_count": null,
   "id": "abf653ea-23b6-4798-9803-df0770f71f0b",
   "metadata": {},
   "outputs": [],
   "source": [
    "#Investment Firms with only 1 investment\n",
    "length(find_lode(investor_freq))"
   ]
  },
  {
   "cell_type": "code",
   "execution_count": null,
   "id": "18f3493f-e899-4239-be85-4b1903c70fe8",
   "metadata": {},
   "outputs": [],
   "source": [
    "#Number of Investment Firms with more than 1 investment\n",
    "length(unique(investor_freq)) - length(find_lode(investor_freq))"
   ]
  },
  {
   "cell_type": "code",
   "execution_count": null,
   "id": "4d502352-7698-4886-b51e-aa21f7f52af1",
   "metadata": {},
   "outputs": [],
   "source": [
    "cor(unicorns$valuation_billions, unicorns$num_of_investors)"
   ]
  },
  {
   "cell_type": "code",
   "execution_count": null,
   "id": "a1b2bb21-c69e-494f-99fe-dac958d532d5",
   "metadata": {},
   "outputs": [],
   "source": [
    "#Create a table based on total valuation in billions by \"category\"\n",
    "categorical_valuation <- unicorns %>% \n",
    "    group_by(category) %>% \n",
    "        summarise(valuation = sum(valuation_billions), \n",
    "                  num_of_companies = n(), \n",
    "                  standard_deviation = sd(valuation_billions),\n",
    "                  avg_valuation_billions = mean(valuation_billions))"
   ]
  },
  {
   "cell_type": "code",
   "execution_count": null,
   "id": "3dca60ea-ef89-42e3-b819-74db11335e1c",
   "metadata": {},
   "outputs": [],
   "source": [
    "#'categorical_valuation' table\n",
    "categorical_valuation"
   ]
  },
  {
   "cell_type": "markdown",
   "id": "c1eca6bc-2bf4-4334-a245-9f7564452b3d",
   "metadata": {},
   "source": [
    "## Visualizations"
   ]
  },
  {
   "cell_type": "code",
   "execution_count": null,
   "id": "3e00a035-e04b-4dba-ab5a-d7218e01caf4",
   "metadata": {},
   "outputs": [],
   "source": [
    "#Plot 'categorical_valuation'\n",
    "fig1 <- categorical_valuation %>% plot_ly()\n",
    "\n",
    "fig1 <- fig1 %>% add_trace(data = categorical_valuation,\n",
    "                           x = ~category,\n",
    "                           y = ~valuation,\n",
    "                           name = 'Valuation (Billions)',\n",
    "                           type = 'bar')     \n",
    "\n",
    "fig1 <- fig1 %>% layout(xaxis = list(showticklabels = FALSE), yaxis = list(showgrid = FALSE))\n",
    "\n",
    "\n",
    "fig2 <- categorical_valuation %>% plot_ly(width = 800, height = 600)\n",
    "\n",
    "fig2 <- fig2 %>% add_trace(data = categorical_valuation,\n",
    "                           x = ~category,\n",
    "                           y = ~num_of_companies,\n",
    "                           name = 'Number of Companies',\n",
    "                           type = 'scatter',\n",
    "                           mode = 'lines')\n",
    "\n",
    "fig2 <- fig2 %>% layout(xaxis = list(showgrid = FALSE), yaxis = list(showgrid = FALSE))\n",
    "\n",
    "\n",
    "#fig3 <- categorical_valuation <- plot_ly(width = 1000, height = 800)\n",
    "\n",
    "#fig3 <- fig3 %>% add_trace(data = categorical_valuation,,\n",
    "#                           x = ~category,\n",
    "#                           y = ~categorical_strength,\n",
    "#                           name = 'Categorical Strength',\n",
    "#                           type = 'scatter')\n",
    "\n",
    "fig <- subplot(fig1, fig2, nrows = 2)\n",
    "\n",
    "fig"
   ]
  },
  {
   "cell_type": "code",
   "execution_count": null,
   "id": "93cc2060-8587-4f4f-adfb-f19762f6725c",
   "metadata": {},
   "outputs": [],
   "source": [
    "#Plot \"company\" based on \"age_years\" and \"valuation_billions\"\n",
    "fig <- unicorns %>% plot_ly(width = 1000, height = 800)\n",
    "\n",
    "fig <- fig %>% add_trace(data = unicorns,\n",
    "                         x = ~age_years,\n",
    "                         y = ~valuation_billions,\n",
    "                         color = ~over_5bill,\n",
    "                         colors = 'Set2',\n",
    "                         type = 'scatter',\n",
    "                         mode = 'markers')\n",
    "\n",
    "fig"
   ]
  },
  {
   "cell_type": "code",
   "execution_count": null,
   "id": "b678ec26-6a03-4d52-a09a-7214b40debe8",
   "metadata": {},
   "outputs": [],
   "source": [
    "#Plot \"company\" based on \"num_of_investors\" and \"valuation_billions\"\n",
    "fig <- unicorns %>% plot_ly(width = 600, height = 400)\n",
    "\n",
    "fig <- fig %>% add_trace(data = unicorns,\n",
    "                         x = ~num_of_investors,\n",
    "                         y = ~valuation_billions,\n",
    "                         type = 'scatter',\n",
    "                         mode = 'markers')\n",
    "\n",
    "fig <- fig %>% layout(xaxis = list(showgrid = FALSE), yaxis = list(showgrid = FALSE))\n",
    "\n",
    "fig"
   ]
  },
  {
   "cell_type": "code",
   "execution_count": null,
   "id": "2499168d-d16e-4aae-a95a-bc3d03cdd006",
   "metadata": {},
   "outputs": [],
   "source": [
    "unique(unicorns[c(\"num_of_investors\")])"
   ]
  },
  {
   "cell_type": "code",
   "execution_count": null,
   "id": "4d0355ff-246d-4771-aa0a-dba02696eb53",
   "metadata": {},
   "outputs": [],
   "source": [
    "#Unicorns by \"continent\"\n",
    "unicorns_by_continent <- unicorns %>% group_by(continent) %>% summarise(avg_valuation = mean(valuation_billions), valuation_billions = sum(valuation_billions), num_of_companies = n())"
   ]
  },
  {
   "cell_type": "code",
   "execution_count": null,
   "id": "e0e3eb88-893e-4a60-9046-f8a886e8027d",
   "metadata": {},
   "outputs": [],
   "source": [
    "unicorns_by_continent$avg_valuation"
   ]
  },
  {
   "cell_type": "code",
   "execution_count": null,
   "id": "c74a7016-1312-4510-88d8-b0516e7a6231",
   "metadata": {},
   "outputs": [],
   "source": [
    "#Plot \"valuation_billions\" based on \"continents\"\n",
    "fig1 <-  unicorns_by_continent %>% plot_ly(width = 1000, height = 800)\n",
    "\n",
    "fig1 <- fig1 %>% add_trace(x = ~continent,\n",
    "                         y = ~valuation_billions,\n",
    "                         name = 'Valuation by Continent',\n",
    "                         type = 'bar')\n",
    "fig1 <- fig1 %>% add_trace(x = ~continent,\n",
    "                         y = ~num_of_companies,\n",
    "                         name = 'Number of Companies',\n",
    "                         type = 'scatter',\n",
    "                         mode = 'lines')\n",
    "\n",
    "fig1 <- fig1 %>% layout(xaxis = list(showgrid = FALSE), yaxis = list(showgrid = FALSE))\n",
    "                                            \n",
    "\n",
    "fig2 <- unicorns_by_continent %>% plot_ly(width = 1000, height = 800)\n",
    "\n",
    "fig2 <- fig2 %>% add_trace(x = ~continent,\n",
    "                         y = ~avg_valuation,\n",
    "                         name = 'Average Valuation in Billions',\n",
    "                         type = 'scatter',\n",
    "                         mode = 'lines')\n",
    "\n",
    "fig2 <- fig2 %>% layout(xaxis = list(showgrid = FALSE), yaxis = list(showgrid = FALSE))\n",
    "                                                      \n",
    "fig <- subplot(fig1, fig2, nrows = 2)\n",
    "\n",
    "fig"
   ]
  },
  {
   "cell_type": "code",
   "execution_count": null,
   "id": "a956e729-e1c7-4a97-88f9-d233af2d5350",
   "metadata": {},
   "outputs": [],
   "source": [
    "fig <- unicorn_investors %>% plot_ly(width = 700, height = 700)\n",
    "\n",
    "fig <- fig %>% add_trace(x = ~investment_count,\n",
    "                         y = ~num_over_5bill,\n",
    "                         type = 'scatter',\n",
    "                         mode = 'markers')\n",
    "\n",
    "fig"
   ]
  },
  {
   "cell_type": "markdown",
   "id": "b5beeb88-60d3-4a9c-9752-5d94efb818b8",
   "metadata": {},
   "source": [
    "---"
   ]
  },
  {
   "cell_type": "code",
   "execution_count": null,
   "id": "21b6e5d2-0af9-47c4-aa17-f6fcd423e3b3",
   "metadata": {},
   "outputs": [],
   "source": []
  },
  {
   "cell_type": "markdown",
   "id": "cc27cb4d-48a3-4134-b067-acb55d02a4ca",
   "metadata": {},
   "source": [
    "[Source](https://www.cbinsights.com/research-unicorn-companies) of dataset. \n",
    "\n",
    "## Don't know where to start?\n",
    "\n",
    "**Challenges are brief tasks designed to help you practice specific skills:**\n",
    "\n",
    "- 🗺️ **Explore**: Which investors are the most represented in the dataset?\n",
    "- 📊 **Visualize**: Create a plot that visualizes the valuation of a company by the date it was added. Add annotations to outliers indicating the names of the company.\n",
    "- 🔎 **Analyze**: Do the number of investors a company have correlate with its valuation?\n",
    "\n",
    "**Scenarios are broader questions to help you develop an end-to-end project for your portfolio:**\n",
    "\n",
    "You have been hired as a data scientist for a company that invests in start-ups. Your manager is interested in whether it is possible to predict whether a company reaches a valuation over 5 billion based on characteristics such as its country of origin, its category, and details about its investors.\n",
    "\n",
    "Using the dataset provided, you have been asked to test whether such predictions are possible, and the confidence one can have in the results.\n",
    "\n",
    "You will need to prepare a report that is accessible to a broad audience. It will need to outline your motivation, steps, findings, and conclusions.\n",
    "\n",
    "---\n",
    "\n",
    "✍️ _If you have an idea for an interesting Scenario or Challenge, or have feedback on our existing ones, let us know! You can submit feedback by pressing the question mark in the top right corner of the screen and selecting \"Give Feedback\". Include the phrase \"Content Feedback\" to help us flag it in our system._\n",
    "\n",
    "<br></br>\n"
   ]
  },
  {
   "cell_type": "code",
   "execution_count": null,
   "id": "0f4be9bb-0e07-4c4d-99a8-fe0986ce30e2",
   "metadata": {},
   "outputs": [],
   "source": [
    "cor_unicorns <- apply(cor_unicorns,2,as.character)\n",
    "unicorn_investors <- apply(unicorn_investors,2,as.character)\n",
    "\n",
    "write.csv(cor_unicorns,\"cor_unicorns.csv\", row.names = FALSE)\n",
    "write.csv(unicorn_investors,\"unicorn_investors.csv\", row.names = FALSE)"
   ]
  },
  {
   "cell_type": "code",
   "execution_count": null,
   "id": "2aadd025-f8bc-4c5e-93e8-8f8ecc531cee",
   "metadata": {},
   "outputs": [],
   "source": [
    "uni_head = data.frame(head(unicorns, n = 5))\n",
    "uni_inv_head = data.frame(head(unicorn_investors, n = 5))\n",
    "cor_uni_head = data.frame(head(cor_unicorns, n = 5))\n",
    "cor_uni_head_ac = data.frame(head(subset(cor_unicorns, select = -c(14))))"
   ]
  },
  {
   "cell_type": "code",
   "execution_count": null,
   "id": "8d80553d-cd62-4fe8-ac7b-9ec0ca4803c9",
   "metadata": {},
   "outputs": [],
   "source": [
    "head(cor_uni_head_ac, n = 1)"
   ]
  },
  {
   "cell_type": "code",
   "execution_count": null,
   "id": "7c3f8895-9be2-4cc1-af59-9608e0ef22bd",
   "metadata": {},
   "outputs": [],
   "source": [
    "uni_head <- apply(uni_head,2,as.character)\n",
    "write.csv(uni_head,\"uni_head.csv\", row.names = FALSE)"
   ]
  },
  {
   "cell_type": "code",
   "execution_count": null,
   "id": "80c328bf-a611-4f14-b7fe-45a0808eb816",
   "metadata": {},
   "outputs": [],
   "source": [
    "uni_inv_head <- apply(uni_inv_head,2,as.character)\n",
    "write.csv(uni_inv_head,\"uni_inv_head.csv\", row.names = FALSE)"
   ]
  },
  {
   "cell_type": "code",
   "execution_count": null,
   "id": "db29b257-0cf6-4139-98a7-ed4dced0b9de",
   "metadata": {},
   "outputs": [],
   "source": [
    "cor_uni_head <- apply(cor_uni_head,2,as.character)\n",
    "write.csv(cor_uni_head,\"cor_uni_head.csv\", row.names = FALSE)"
   ]
  },
  {
   "cell_type": "code",
   "execution_count": null,
   "id": "f32f28a5-61da-4be4-a4c7-5939a2a43b5a",
   "metadata": {},
   "outputs": [],
   "source": [
    "cor_uni_head_ac <- apply(cor_uni_head_ac,2,as.character)\n",
    "write.csv(cor_uni_head_ac,\"cor_ac_uni_head.csv\", row.names = FALSE)"
   ]
  },
  {
   "cell_type": "code",
   "execution_count": null,
   "id": "e8cd43b7-9637-4804-b918-87b77bd396e0",
   "metadata": {},
   "outputs": [],
   "source": []
  }
 ],
 "metadata": {
  "kernelspec": {
   "display_name": "Python 3 (ipykernel)",
   "language": "python",
   "name": "python3"
  },
  "language_info": {
   "codemirror_mode": {
    "name": "ipython",
    "version": 3
   },
   "file_extension": ".py",
   "mimetype": "text/x-python",
   "name": "python",
   "nbconvert_exporter": "python",
   "pygments_lexer": "ipython3",
   "version": "3.11.5"
  }
 },
 "nbformat": 4,
 "nbformat_minor": 5
}
